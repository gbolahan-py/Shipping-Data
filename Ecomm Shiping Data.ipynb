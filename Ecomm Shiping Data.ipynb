{
 "cells": [
  {
   "cell_type": "code",
   "execution_count": null,
   "id": "c2a97ce3",
   "metadata": {},
   "outputs": [],
   "source": [
    "#The data contains the following information:\n",
    "# ID: ID Number of Customers.\n",
    "# Warehouse block: The Company have big Warehouse which is divided in to block such as A,B,C,D,E.\n",
    "# Mode of shipment:The Company Ships the products in multiple way such as Ship, Flight and Road.\n",
    "# Customer care calls: The number of calls made from enquiry for enquiry of the shipment.\n",
    "# Customer rating: The company has rated from every customer. 1 is the lowest, 5 is the highest.\n",
    "# Cost of the product: Cost of the Product in US Dollars.\n",
    "# Prior purchases: The Number of Prior Purchase.\n",
    "# Product importance: The company has categorized the product in the various parameter such as low, medium, high.\n",
    "# Gender: Male and Female.\n",
    "# Discount offered: Discount offered on that specific product.\n",
    "# Weight in gms: It is the weight in grams.\n",
    "# Reached on time: It is the target variable, where 1 Indicates that the product has NOT reached on time and 0 indicates it has reached on time. "
   ]
  },
  {
   "cell_type": "code",
   "execution_count": 2,
   "id": "973eb221",
   "metadata": {},
   "outputs": [],
   "source": [
    "import pandas as pd\n",
    "import numpy as np\n",
    "import seaborn as sns\n",
    "import matplotlib.pyplot as plt"
   ]
  },
  {
   "cell_type": "code",
   "execution_count": 4,
   "id": "dba82734",
   "metadata": {},
   "outputs": [
    {
     "data": {
      "text/html": [
       "<div>\n",
       "<style scoped>\n",
       "    .dataframe tbody tr th:only-of-type {\n",
       "        vertical-align: middle;\n",
       "    }\n",
       "\n",
       "    .dataframe tbody tr th {\n",
       "        vertical-align: top;\n",
       "    }\n",
       "\n",
       "    .dataframe thead th {\n",
       "        text-align: right;\n",
       "    }\n",
       "</style>\n",
       "<table border=\"1\" class=\"dataframe\">\n",
       "  <thead>\n",
       "    <tr style=\"text-align: right;\">\n",
       "      <th></th>\n",
       "      <th>Warehouse_block</th>\n",
       "      <th>Mode_of_Shipment</th>\n",
       "      <th>Customer_care_calls</th>\n",
       "      <th>Customer_rating</th>\n",
       "      <th>Cost_of_the_Product</th>\n",
       "      <th>Prior_purchases</th>\n",
       "      <th>Product_importance</th>\n",
       "      <th>Gender</th>\n",
       "      <th>Discount_offered</th>\n",
       "      <th>Weight_in_gms</th>\n",
       "      <th>Reached.on.Time_Y.N</th>\n",
       "    </tr>\n",
       "    <tr>\n",
       "      <th>ID</th>\n",
       "      <th></th>\n",
       "      <th></th>\n",
       "      <th></th>\n",
       "      <th></th>\n",
       "      <th></th>\n",
       "      <th></th>\n",
       "      <th></th>\n",
       "      <th></th>\n",
       "      <th></th>\n",
       "      <th></th>\n",
       "      <th></th>\n",
       "    </tr>\n",
       "  </thead>\n",
       "  <tbody>\n",
       "    <tr>\n",
       "      <th>1</th>\n",
       "      <td>D</td>\n",
       "      <td>Flight</td>\n",
       "      <td>4</td>\n",
       "      <td>2</td>\n",
       "      <td>177</td>\n",
       "      <td>3</td>\n",
       "      <td>low</td>\n",
       "      <td>F</td>\n",
       "      <td>44</td>\n",
       "      <td>1233</td>\n",
       "      <td>1</td>\n",
       "    </tr>\n",
       "    <tr>\n",
       "      <th>2</th>\n",
       "      <td>F</td>\n",
       "      <td>Flight</td>\n",
       "      <td>4</td>\n",
       "      <td>5</td>\n",
       "      <td>216</td>\n",
       "      <td>2</td>\n",
       "      <td>low</td>\n",
       "      <td>M</td>\n",
       "      <td>59</td>\n",
       "      <td>3088</td>\n",
       "      <td>1</td>\n",
       "    </tr>\n",
       "    <tr>\n",
       "      <th>3</th>\n",
       "      <td>A</td>\n",
       "      <td>Flight</td>\n",
       "      <td>2</td>\n",
       "      <td>2</td>\n",
       "      <td>183</td>\n",
       "      <td>4</td>\n",
       "      <td>low</td>\n",
       "      <td>M</td>\n",
       "      <td>48</td>\n",
       "      <td>3374</td>\n",
       "      <td>1</td>\n",
       "    </tr>\n",
       "    <tr>\n",
       "      <th>4</th>\n",
       "      <td>B</td>\n",
       "      <td>Flight</td>\n",
       "      <td>3</td>\n",
       "      <td>3</td>\n",
       "      <td>176</td>\n",
       "      <td>4</td>\n",
       "      <td>medium</td>\n",
       "      <td>M</td>\n",
       "      <td>10</td>\n",
       "      <td>1177</td>\n",
       "      <td>1</td>\n",
       "    </tr>\n",
       "    <tr>\n",
       "      <th>5</th>\n",
       "      <td>C</td>\n",
       "      <td>Flight</td>\n",
       "      <td>2</td>\n",
       "      <td>2</td>\n",
       "      <td>184</td>\n",
       "      <td>3</td>\n",
       "      <td>medium</td>\n",
       "      <td>F</td>\n",
       "      <td>46</td>\n",
       "      <td>2484</td>\n",
       "      <td>1</td>\n",
       "    </tr>\n",
       "  </tbody>\n",
       "</table>\n",
       "</div>"
      ],
      "text/plain": [
       "   Warehouse_block Mode_of_Shipment  Customer_care_calls  Customer_rating  \\\n",
       "ID                                                                          \n",
       "1                D           Flight                    4                2   \n",
       "2                F           Flight                    4                5   \n",
       "3                A           Flight                    2                2   \n",
       "4                B           Flight                    3                3   \n",
       "5                C           Flight                    2                2   \n",
       "\n",
       "    Cost_of_the_Product  Prior_purchases Product_importance Gender  \\\n",
       "ID                                                                   \n",
       "1                   177                3                low      F   \n",
       "2                   216                2                low      M   \n",
       "3                   183                4                low      M   \n",
       "4                   176                4             medium      M   \n",
       "5                   184                3             medium      F   \n",
       "\n",
       "    Discount_offered  Weight_in_gms  Reached.on.Time_Y.N  \n",
       "ID                                                        \n",
       "1                 44           1233                    1  \n",
       "2                 59           3088                    1  \n",
       "3                 48           3374                    1  \n",
       "4                 10           1177                    1  \n",
       "5                 46           2484                    1  "
      ]
     },
     "execution_count": 4,
     "metadata": {},
     "output_type": "execute_result"
    }
   ],
   "source": [
    "data = pd.read_csv('Train.csv')\n",
    "data.set_index('ID', inplace = True)\n",
    "data.head()"
   ]
  },
  {
   "cell_type": "code",
   "execution_count": 5,
   "id": "74971378",
   "metadata": {},
   "outputs": [],
   "source": [
    "data.rename(columns = {'Reached.on.Time_Y.N':'Reached_on_Time'}, inplace = True)\n",
    "data['Warehouse_block'] = data['Warehouse_block'].replace(['F'], ['E'])"
   ]
  },
  {
   "cell_type": "code",
   "execution_count": 6,
   "id": "68650068",
   "metadata": {},
   "outputs": [
    {
     "data": {
      "text/html": [
       "<div>\n",
       "<style scoped>\n",
       "    .dataframe tbody tr th:only-of-type {\n",
       "        vertical-align: middle;\n",
       "    }\n",
       "\n",
       "    .dataframe tbody tr th {\n",
       "        vertical-align: top;\n",
       "    }\n",
       "\n",
       "    .dataframe thead th {\n",
       "        text-align: right;\n",
       "    }\n",
       "</style>\n",
       "<table border=\"1\" class=\"dataframe\">\n",
       "  <thead>\n",
       "    <tr style=\"text-align: right;\">\n",
       "      <th></th>\n",
       "      <th>Warehouse_block</th>\n",
       "      <th>Mode_of_Shipment</th>\n",
       "      <th>Customer_care_calls</th>\n",
       "      <th>Customer_rating</th>\n",
       "      <th>Cost_of_the_Product</th>\n",
       "      <th>Prior_purchases</th>\n",
       "      <th>Product_importance</th>\n",
       "      <th>Gender</th>\n",
       "      <th>Discount_offered</th>\n",
       "      <th>Weight_in_gms</th>\n",
       "      <th>Reached_on_Time</th>\n",
       "    </tr>\n",
       "    <tr>\n",
       "      <th>ID</th>\n",
       "      <th></th>\n",
       "      <th></th>\n",
       "      <th></th>\n",
       "      <th></th>\n",
       "      <th></th>\n",
       "      <th></th>\n",
       "      <th></th>\n",
       "      <th></th>\n",
       "      <th></th>\n",
       "      <th></th>\n",
       "      <th></th>\n",
       "    </tr>\n",
       "  </thead>\n",
       "  <tbody>\n",
       "    <tr>\n",
       "      <th>1</th>\n",
       "      <td>D</td>\n",
       "      <td>Flight</td>\n",
       "      <td>4</td>\n",
       "      <td>2</td>\n",
       "      <td>177</td>\n",
       "      <td>3</td>\n",
       "      <td>low</td>\n",
       "      <td>F</td>\n",
       "      <td>44</td>\n",
       "      <td>1233</td>\n",
       "      <td>1</td>\n",
       "    </tr>\n",
       "    <tr>\n",
       "      <th>2</th>\n",
       "      <td>E</td>\n",
       "      <td>Flight</td>\n",
       "      <td>4</td>\n",
       "      <td>5</td>\n",
       "      <td>216</td>\n",
       "      <td>2</td>\n",
       "      <td>low</td>\n",
       "      <td>M</td>\n",
       "      <td>59</td>\n",
       "      <td>3088</td>\n",
       "      <td>1</td>\n",
       "    </tr>\n",
       "    <tr>\n",
       "      <th>3</th>\n",
       "      <td>A</td>\n",
       "      <td>Flight</td>\n",
       "      <td>2</td>\n",
       "      <td>2</td>\n",
       "      <td>183</td>\n",
       "      <td>4</td>\n",
       "      <td>low</td>\n",
       "      <td>M</td>\n",
       "      <td>48</td>\n",
       "      <td>3374</td>\n",
       "      <td>1</td>\n",
       "    </tr>\n",
       "    <tr>\n",
       "      <th>4</th>\n",
       "      <td>B</td>\n",
       "      <td>Flight</td>\n",
       "      <td>3</td>\n",
       "      <td>3</td>\n",
       "      <td>176</td>\n",
       "      <td>4</td>\n",
       "      <td>medium</td>\n",
       "      <td>M</td>\n",
       "      <td>10</td>\n",
       "      <td>1177</td>\n",
       "      <td>1</td>\n",
       "    </tr>\n",
       "    <tr>\n",
       "      <th>5</th>\n",
       "      <td>C</td>\n",
       "      <td>Flight</td>\n",
       "      <td>2</td>\n",
       "      <td>2</td>\n",
       "      <td>184</td>\n",
       "      <td>3</td>\n",
       "      <td>medium</td>\n",
       "      <td>F</td>\n",
       "      <td>46</td>\n",
       "      <td>2484</td>\n",
       "      <td>1</td>\n",
       "    </tr>\n",
       "  </tbody>\n",
       "</table>\n",
       "</div>"
      ],
      "text/plain": [
       "   Warehouse_block Mode_of_Shipment  Customer_care_calls  Customer_rating  \\\n",
       "ID                                                                          \n",
       "1                D           Flight                    4                2   \n",
       "2                E           Flight                    4                5   \n",
       "3                A           Flight                    2                2   \n",
       "4                B           Flight                    3                3   \n",
       "5                C           Flight                    2                2   \n",
       "\n",
       "    Cost_of_the_Product  Prior_purchases Product_importance Gender  \\\n",
       "ID                                                                   \n",
       "1                   177                3                low      F   \n",
       "2                   216                2                low      M   \n",
       "3                   183                4                low      M   \n",
       "4                   176                4             medium      M   \n",
       "5                   184                3             medium      F   \n",
       "\n",
       "    Discount_offered  Weight_in_gms  Reached_on_Time  \n",
       "ID                                                    \n",
       "1                 44           1233                1  \n",
       "2                 59           3088                1  \n",
       "3                 48           3374                1  \n",
       "4                 10           1177                1  \n",
       "5                 46           2484                1  "
      ]
     },
     "execution_count": 6,
     "metadata": {},
     "output_type": "execute_result"
    }
   ],
   "source": [
    "data.head()"
   ]
  },
  {
   "cell_type": "code",
   "execution_count": 7,
   "id": "7b92a1de",
   "metadata": {},
   "outputs": [
    {
     "data": {
      "text/plain": [
       "(10999, 11)"
      ]
     },
     "execution_count": 7,
     "metadata": {},
     "output_type": "execute_result"
    }
   ],
   "source": [
    "data.shape"
   ]
  },
  {
   "cell_type": "code",
   "execution_count": 9,
   "id": "c7cd5493",
   "metadata": {},
   "outputs": [
    {
     "data": {
      "text/plain": [
       "Warehouse_block        0\n",
       "Mode_of_Shipment       0\n",
       "Customer_care_calls    0\n",
       "Customer_rating        0\n",
       "Cost_of_the_Product    0\n",
       "Prior_purchases        0\n",
       "Product_importance     0\n",
       "Gender                 0\n",
       "Discount_offered       0\n",
       "Weight_in_gms          0\n",
       "Reached_on_Time        0\n",
       "dtype: int64"
      ]
     },
     "execution_count": 9,
     "metadata": {},
     "output_type": "execute_result"
    }
   ],
   "source": [
    "data.isnull().sum()"
   ]
  },
  {
   "cell_type": "code",
   "execution_count": 10,
   "id": "66fe18f7",
   "metadata": {},
   "outputs": [
    {
     "data": {
      "text/plain": [
       "E    3666\n",
       "D    1834\n",
       "A    1833\n",
       "B    1833\n",
       "C    1833\n",
       "Name: Warehouse_block, dtype: int64"
      ]
     },
     "execution_count": 10,
     "metadata": {},
     "output_type": "execute_result"
    }
   ],
   "source": [
    "data['Warehouse_block'].value_counts()"
   ]
  },
  {
   "cell_type": "code",
   "execution_count": 11,
   "id": "12eadd7f",
   "metadata": {},
   "outputs": [
    {
     "data": {
      "text/plain": [
       "Ship      7462\n",
       "Flight    1777\n",
       "Road      1760\n",
       "Name: Mode_of_Shipment, dtype: int64"
      ]
     },
     "execution_count": 11,
     "metadata": {},
     "output_type": "execute_result"
    }
   ],
   "source": [
    "data['Mode_of_Shipment'].value_counts()"
   ]
  },
  {
   "cell_type": "code",
   "execution_count": 14,
   "id": "3bc16fcd",
   "metadata": {},
   "outputs": [
    {
     "data": {
      "text/plain": [
       "3     3955\n",
       "2     2599\n",
       "4     2155\n",
       "5     1287\n",
       "6      561\n",
       "10     178\n",
       "7      136\n",
       "8      128\n",
       "Name: Prior_purchases, dtype: int64"
      ]
     },
     "execution_count": 14,
     "metadata": {},
     "output_type": "execute_result"
    }
   ],
   "source": [
    "data['Prior_purchases'].value_counts()"
   ]
  },
  {
   "cell_type": "code",
   "execution_count": 15,
   "id": "67866ce2",
   "metadata": {},
   "outputs": [
    {
     "data": {
      "text/plain": [
       "low       5297\n",
       "medium    4754\n",
       "high       948\n",
       "Name: Product_importance, dtype: int64"
      ]
     },
     "execution_count": 15,
     "metadata": {},
     "output_type": "execute_result"
    }
   ],
   "source": [
    "data['Product_importance'].value_counts()"
   ]
  },
  {
   "cell_type": "code",
   "execution_count": 16,
   "id": "c5349f86",
   "metadata": {},
   "outputs": [
    {
     "data": {
      "text/plain": [
       "1    6563\n",
       "0    4436\n",
       "Name: Reached_on_Time, dtype: int64"
      ]
     },
     "execution_count": 16,
     "metadata": {},
     "output_type": "execute_result"
    }
   ],
   "source": [
    "data['Reached_on_Time'].value_counts()"
   ]
  },
  {
   "cell_type": "code",
   "execution_count": 18,
   "id": "47f30b24",
   "metadata": {},
   "outputs": [
    {
     "data": {
      "text/html": [
       "<div>\n",
       "<style scoped>\n",
       "    .dataframe tbody tr th:only-of-type {\n",
       "        vertical-align: middle;\n",
       "    }\n",
       "\n",
       "    .dataframe tbody tr th {\n",
       "        vertical-align: top;\n",
       "    }\n",
       "\n",
       "    .dataframe thead th {\n",
       "        text-align: right;\n",
       "    }\n",
       "</style>\n",
       "<table border=\"1\" class=\"dataframe\">\n",
       "  <thead>\n",
       "    <tr style=\"text-align: right;\">\n",
       "      <th></th>\n",
       "      <th>Customer_care_calls</th>\n",
       "      <th>Customer_rating</th>\n",
       "      <th>Cost_of_the_Product</th>\n",
       "      <th>Prior_purchases</th>\n",
       "      <th>Discount_offered</th>\n",
       "      <th>Weight_in_gms</th>\n",
       "      <th>Reached_on_Time</th>\n",
       "    </tr>\n",
       "  </thead>\n",
       "  <tbody>\n",
       "    <tr>\n",
       "      <th>count</th>\n",
       "      <td>10999.000000</td>\n",
       "      <td>10999.000000</td>\n",
       "      <td>10999.000000</td>\n",
       "      <td>10999.000000</td>\n",
       "      <td>10999.000000</td>\n",
       "      <td>10999.000000</td>\n",
       "      <td>10999.000000</td>\n",
       "    </tr>\n",
       "    <tr>\n",
       "      <th>mean</th>\n",
       "      <td>4.054459</td>\n",
       "      <td>2.990545</td>\n",
       "      <td>210.196836</td>\n",
       "      <td>3.567597</td>\n",
       "      <td>13.373216</td>\n",
       "      <td>3634.016729</td>\n",
       "      <td>0.596691</td>\n",
       "    </tr>\n",
       "    <tr>\n",
       "      <th>std</th>\n",
       "      <td>1.141490</td>\n",
       "      <td>1.413603</td>\n",
       "      <td>48.063272</td>\n",
       "      <td>1.522860</td>\n",
       "      <td>16.205527</td>\n",
       "      <td>1635.377251</td>\n",
       "      <td>0.490584</td>\n",
       "    </tr>\n",
       "    <tr>\n",
       "      <th>min</th>\n",
       "      <td>2.000000</td>\n",
       "      <td>1.000000</td>\n",
       "      <td>96.000000</td>\n",
       "      <td>2.000000</td>\n",
       "      <td>1.000000</td>\n",
       "      <td>1001.000000</td>\n",
       "      <td>0.000000</td>\n",
       "    </tr>\n",
       "    <tr>\n",
       "      <th>25%</th>\n",
       "      <td>3.000000</td>\n",
       "      <td>2.000000</td>\n",
       "      <td>169.000000</td>\n",
       "      <td>3.000000</td>\n",
       "      <td>4.000000</td>\n",
       "      <td>1839.500000</td>\n",
       "      <td>0.000000</td>\n",
       "    </tr>\n",
       "    <tr>\n",
       "      <th>50%</th>\n",
       "      <td>4.000000</td>\n",
       "      <td>3.000000</td>\n",
       "      <td>214.000000</td>\n",
       "      <td>3.000000</td>\n",
       "      <td>7.000000</td>\n",
       "      <td>4149.000000</td>\n",
       "      <td>1.000000</td>\n",
       "    </tr>\n",
       "    <tr>\n",
       "      <th>75%</th>\n",
       "      <td>5.000000</td>\n",
       "      <td>4.000000</td>\n",
       "      <td>251.000000</td>\n",
       "      <td>4.000000</td>\n",
       "      <td>10.000000</td>\n",
       "      <td>5050.000000</td>\n",
       "      <td>1.000000</td>\n",
       "    </tr>\n",
       "    <tr>\n",
       "      <th>max</th>\n",
       "      <td>7.000000</td>\n",
       "      <td>5.000000</td>\n",
       "      <td>310.000000</td>\n",
       "      <td>10.000000</td>\n",
       "      <td>65.000000</td>\n",
       "      <td>7846.000000</td>\n",
       "      <td>1.000000</td>\n",
       "    </tr>\n",
       "  </tbody>\n",
       "</table>\n",
       "</div>"
      ],
      "text/plain": [
       "       Customer_care_calls  Customer_rating  Cost_of_the_Product  \\\n",
       "count         10999.000000     10999.000000         10999.000000   \n",
       "mean              4.054459         2.990545           210.196836   \n",
       "std               1.141490         1.413603            48.063272   \n",
       "min               2.000000         1.000000            96.000000   \n",
       "25%               3.000000         2.000000           169.000000   \n",
       "50%               4.000000         3.000000           214.000000   \n",
       "75%               5.000000         4.000000           251.000000   \n",
       "max               7.000000         5.000000           310.000000   \n",
       "\n",
       "       Prior_purchases  Discount_offered  Weight_in_gms  Reached_on_Time  \n",
       "count     10999.000000      10999.000000   10999.000000     10999.000000  \n",
       "mean          3.567597         13.373216    3634.016729         0.596691  \n",
       "std           1.522860         16.205527    1635.377251         0.490584  \n",
       "min           2.000000          1.000000    1001.000000         0.000000  \n",
       "25%           3.000000          4.000000    1839.500000         0.000000  \n",
       "50%           3.000000          7.000000    4149.000000         1.000000  \n",
       "75%           4.000000         10.000000    5050.000000         1.000000  \n",
       "max          10.000000         65.000000    7846.000000         1.000000  "
      ]
     },
     "execution_count": 18,
     "metadata": {},
     "output_type": "execute_result"
    }
   ],
   "source": [
    "data.describe()"
   ]
  },
  {
   "cell_type": "code",
   "execution_count": 19,
   "id": "7774ba56",
   "metadata": {},
   "outputs": [
    {
     "data": {
      "text/html": [
       "<div>\n",
       "<style scoped>\n",
       "    .dataframe tbody tr th:only-of-type {\n",
       "        vertical-align: middle;\n",
       "    }\n",
       "\n",
       "    .dataframe tbody tr th {\n",
       "        vertical-align: top;\n",
       "    }\n",
       "\n",
       "    .dataframe thead th {\n",
       "        text-align: right;\n",
       "    }\n",
       "</style>\n",
       "<table border=\"1\" class=\"dataframe\">\n",
       "  <thead>\n",
       "    <tr style=\"text-align: right;\">\n",
       "      <th></th>\n",
       "      <th>Customer_care_calls</th>\n",
       "      <th>Customer_rating</th>\n",
       "      <th>Cost_of_the_Product</th>\n",
       "      <th>Prior_purchases</th>\n",
       "      <th>Discount_offered</th>\n",
       "      <th>Weight_in_gms</th>\n",
       "      <th>Reached_on_Time</th>\n",
       "    </tr>\n",
       "  </thead>\n",
       "  <tbody>\n",
       "    <tr>\n",
       "      <th>Customer_care_calls</th>\n",
       "      <td>1.000000</td>\n",
       "      <td>0.012209</td>\n",
       "      <td>0.323182</td>\n",
       "      <td>0.180771</td>\n",
       "      <td>-0.130750</td>\n",
       "      <td>-0.276615</td>\n",
       "      <td>-0.067126</td>\n",
       "    </tr>\n",
       "    <tr>\n",
       "      <th>Customer_rating</th>\n",
       "      <td>0.012209</td>\n",
       "      <td>1.000000</td>\n",
       "      <td>0.009270</td>\n",
       "      <td>0.013179</td>\n",
       "      <td>-0.003124</td>\n",
       "      <td>-0.001897</td>\n",
       "      <td>0.013119</td>\n",
       "    </tr>\n",
       "    <tr>\n",
       "      <th>Cost_of_the_Product</th>\n",
       "      <td>0.323182</td>\n",
       "      <td>0.009270</td>\n",
       "      <td>1.000000</td>\n",
       "      <td>0.123676</td>\n",
       "      <td>-0.138312</td>\n",
       "      <td>-0.132604</td>\n",
       "      <td>-0.073587</td>\n",
       "    </tr>\n",
       "    <tr>\n",
       "      <th>Prior_purchases</th>\n",
       "      <td>0.180771</td>\n",
       "      <td>0.013179</td>\n",
       "      <td>0.123676</td>\n",
       "      <td>1.000000</td>\n",
       "      <td>-0.082769</td>\n",
       "      <td>-0.168213</td>\n",
       "      <td>-0.055515</td>\n",
       "    </tr>\n",
       "    <tr>\n",
       "      <th>Discount_offered</th>\n",
       "      <td>-0.130750</td>\n",
       "      <td>-0.003124</td>\n",
       "      <td>-0.138312</td>\n",
       "      <td>-0.082769</td>\n",
       "      <td>1.000000</td>\n",
       "      <td>-0.376067</td>\n",
       "      <td>0.397108</td>\n",
       "    </tr>\n",
       "    <tr>\n",
       "      <th>Weight_in_gms</th>\n",
       "      <td>-0.276615</td>\n",
       "      <td>-0.001897</td>\n",
       "      <td>-0.132604</td>\n",
       "      <td>-0.168213</td>\n",
       "      <td>-0.376067</td>\n",
       "      <td>1.000000</td>\n",
       "      <td>-0.268793</td>\n",
       "    </tr>\n",
       "    <tr>\n",
       "      <th>Reached_on_Time</th>\n",
       "      <td>-0.067126</td>\n",
       "      <td>0.013119</td>\n",
       "      <td>-0.073587</td>\n",
       "      <td>-0.055515</td>\n",
       "      <td>0.397108</td>\n",
       "      <td>-0.268793</td>\n",
       "      <td>1.000000</td>\n",
       "    </tr>\n",
       "  </tbody>\n",
       "</table>\n",
       "</div>"
      ],
      "text/plain": [
       "                     Customer_care_calls  Customer_rating  \\\n",
       "Customer_care_calls             1.000000         0.012209   \n",
       "Customer_rating                 0.012209         1.000000   \n",
       "Cost_of_the_Product             0.323182         0.009270   \n",
       "Prior_purchases                 0.180771         0.013179   \n",
       "Discount_offered               -0.130750        -0.003124   \n",
       "Weight_in_gms                  -0.276615        -0.001897   \n",
       "Reached_on_Time                -0.067126         0.013119   \n",
       "\n",
       "                     Cost_of_the_Product  Prior_purchases  Discount_offered  \\\n",
       "Customer_care_calls             0.323182         0.180771         -0.130750   \n",
       "Customer_rating                 0.009270         0.013179         -0.003124   \n",
       "Cost_of_the_Product             1.000000         0.123676         -0.138312   \n",
       "Prior_purchases                 0.123676         1.000000         -0.082769   \n",
       "Discount_offered               -0.138312        -0.082769          1.000000   \n",
       "Weight_in_gms                  -0.132604        -0.168213         -0.376067   \n",
       "Reached_on_Time                -0.073587        -0.055515          0.397108   \n",
       "\n",
       "                     Weight_in_gms  Reached_on_Time  \n",
       "Customer_care_calls      -0.276615        -0.067126  \n",
       "Customer_rating          -0.001897         0.013119  \n",
       "Cost_of_the_Product      -0.132604        -0.073587  \n",
       "Prior_purchases          -0.168213        -0.055515  \n",
       "Discount_offered         -0.376067         0.397108  \n",
       "Weight_in_gms             1.000000        -0.268793  \n",
       "Reached_on_Time          -0.268793         1.000000  "
      ]
     },
     "execution_count": 19,
     "metadata": {},
     "output_type": "execute_result"
    }
   ],
   "source": [
    "data.corr()"
   ]
  },
  {
   "cell_type": "code",
   "execution_count": 20,
   "id": "cd4ef8f6",
   "metadata": {},
   "outputs": [
    {
     "data": {
      "text/plain": [
       "Weight_in_gms         -0.268793\n",
       "Cost_of_the_Product   -0.073587\n",
       "Customer_care_calls   -0.067126\n",
       "Prior_purchases       -0.055515\n",
       "Customer_rating        0.013119\n",
       "Discount_offered       0.397108\n",
       "Reached_on_Time        1.000000\n",
       "Name: Reached_on_Time, dtype: float64"
      ]
     },
     "execution_count": 20,
     "metadata": {},
     "output_type": "execute_result"
    }
   ],
   "source": [
    "#To Determine the Effectiveness ofnthe Shipment reaching on Time or Not\n",
    "# We can calculate the correlation of reaching on time\n",
    "\n",
    "data.corr()['Reached_on_Time'].sort_values()"
   ]
  },
  {
   "cell_type": "code",
   "execution_count": 22,
   "id": "71fecd18",
   "metadata": {},
   "outputs": [
    {
     "data": {
      "text/plain": [
       "<AxesSubplot:>"
      ]
     },
     "execution_count": 22,
     "metadata": {},
     "output_type": "execute_result"
    },
    {
     "data": {
      "image/png": "[encoded data removed]",
      "text/plain": [
       "<Figure size 1296x504 with 2 Axes>"
      ]
     },
     "metadata": {
      "needs_background": "light"
     },
     "output_type": "display_data"
    }
   ],
   "source": [
    "plt.figure(figsize=(18, 7))\n",
    "sns.heatmap(data.corr(), annot=True)"
   ]
  },
  {
   "cell_type": "code",
   "execution_count": 31,
   "id": "7b576826",
   "metadata": {},
   "outputs": [],
   "source": [
    "categorical = ['Warehouse_block', 'Mode_of_Shipment', 'Customer_care_calls', 'Customer_rating', 'Prior_purchases', 'Product_importance', 'Gender']\n",
    "\n",
    "criterion_col = 'Reached_on_Time'"
   ]
  },
  {
   "cell_type": "code",
   "execution_count": 32,
   "id": "0de12fe7",
   "metadata": {},
   "outputs": [
    {
     "data": {
      "text/plain": [
       "<AxesSubplot:>"
      ]
     },
     "execution_count": 32,
     "metadata": {},
     "output_type": "execute_result"
    },
    {
     "data": {
      "image/png": "[encoded data removed]",
      "text/plain": [
       "<Figure size 1440x1440 with 8 Axes>"
      ]
     },
     "metadata": {
      "needs_background": "light"
     },
     "output_type": "display_data"
    }
   ],
   "source": [
    "fig, axes = plt.subplots(nrows=4, ncols=2, figsize=(20, 20))\n",
    "for i in range(len(categorical)):\n",
    "    data_chart = pd.concat([data[[categorical[i]]], data[[criterion_col]]], axis=1)\n",
    "    data_chart_group = data_chart.groupby([categorical[i], criterion_col])[categorical[i]].count().unstack(criterion_col)\n",
    "    data_chart_group.plot(kind='bar', stacked=True, ax=axes[i//2, i % 2])\n",
    "\n",
    "data[criterion_col].value_counts().plot(kind='bar', ax=axes[3, 1])"
   ]
  },
  {
   "cell_type": "code",
   "execution_count": null,
   "id": "817d8f01",
   "metadata": {},
   "outputs": [],
   "source": []
  }
 ],
 "metadata": {
  "kernelspec": {
   "display_name": "Python 3 (ipykernel)",
   "language": "python",
   "name": "python3"
  },
  "language_info": {
   "codemirror_mode": {
    "name": "ipython",
    "version": 3
   },
   "file_extension": ".py",
   "mimetype": "text/x-python",
   "name": "python",
   "nbconvert_exporter": "python",
   "pygments_lexer": "ipython3",
   "version": "3.9.12"
  }
 },
 "nbformat": 4,
 "nbformat_minor": 5
}
